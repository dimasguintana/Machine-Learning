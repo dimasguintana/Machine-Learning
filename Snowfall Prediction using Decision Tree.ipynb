{
  "nbformat": 4,
  "nbformat_minor": 0,
  "metadata": {
    "colab": {
      "name": "Malin2_Salju.ipynb",
      "provenance": [],
      "collapsed_sections": [
        "svXwOB0qCoWz",
        "GXD2JqKhCrRI"
      ]
    },
    "kernelspec": {
      "name": "python3",
      "display_name": "Python 3"
    },
    "language_info": {
      "name": "python"
    }
  },
  "cells": [
    {
      "cell_type": "markdown",
      "metadata": {
        "id": "llaFybIBcw2A"
      },
      "source": [
        "# **TUGAS BESAR 2 PEMBELAJARAN MESIN**"
      ]
    },
    {
      "cell_type": "markdown",
      "metadata": {
        "id": "svXwOB0qCoWz"
      },
      "source": [
        "# **DOWNLOAD DATA**"
      ]
    },
    {
      "cell_type": "code",
      "metadata": {
        "id": "l8ZgQMwJ6xEa",
        "colab": {
          "base_uri": "https://localhost:8080/"
        },
        "outputId": "c5f4f536-f43d-47e8-f436-d031edd4fc8a"
      },
      "source": [
        "!wget 'https://drive.google.com/uc?export=download&id=1Ww0IQO04isDEKaKb8OSznZ7u53_I8nRu' -O salju_train.csv\n",
        "!wget 'https://drive.google.com/uc?export=download&id=1VCy7LvdVu4K5Zd7WGgyBDqMRToeQJVfL' -O salju_test.csv"
      ],
      "execution_count": null,
      "outputs": [
        {
          "output_type": "stream",
          "text": [
            "--2021-05-05 07:06:52--  https://drive.google.com/uc?export=download&id=1Ww0IQO04isDEKaKb8OSznZ7u53_I8nRu\n",
            "Resolving drive.google.com (drive.google.com)... 74.125.195.100, 74.125.195.138, 74.125.195.139, ...\n",
            "Connecting to drive.google.com (drive.google.com)|74.125.195.100|:443... connected.\n",
            "HTTP request sent, awaiting response... 302 Moved Temporarily\n",
            "Location: https://doc-14-1g-docs.googleusercontent.com/docs/securesc/ha0ro937gcuc7l7deffksulhg5h7mbp1/bj4dfp83cdananihshlietshvce2ej8u/1620198375000/16386755940020632228/*/1Ww0IQO04isDEKaKb8OSznZ7u53_I8nRu?e=download [following]\n",
            "Warning: wildcards not supported in HTTP.\n",
            "--2021-05-05 07:06:54--  https://doc-14-1g-docs.googleusercontent.com/docs/securesc/ha0ro937gcuc7l7deffksulhg5h7mbp1/bj4dfp83cdananihshlietshvce2ej8u/1620198375000/16386755940020632228/*/1Ww0IQO04isDEKaKb8OSznZ7u53_I8nRu?e=download\n",
            "Resolving doc-14-1g-docs.googleusercontent.com (doc-14-1g-docs.googleusercontent.com)... 74.125.20.132, 2607:f8b0:400e:c07::84\n",
            "Connecting to doc-14-1g-docs.googleusercontent.com (doc-14-1g-docs.googleusercontent.com)|74.125.20.132|:443... connected.\n",
            "HTTP request sent, awaiting response... 200 OK\n",
            "Length: unspecified [text/csv]\n",
            "Saving to: ‘salju_train.csv’\n",
            "\n",
            "salju_train.csv         [  <=>               ]  10.13M  46.3MB/s    in 0.2s    \n",
            "\n",
            "2021-05-05 07:06:54 (46.3 MB/s) - ‘salju_train.csv’ saved [10620655]\n",
            "\n",
            "--2021-05-05 07:06:54--  https://drive.google.com/uc?export=download&id=1VCy7LvdVu4K5Zd7WGgyBDqMRToeQJVfL\n",
            "Resolving drive.google.com (drive.google.com)... 74.125.195.101, 74.125.195.100, 74.125.195.113, ...\n",
            "Connecting to drive.google.com (drive.google.com)|74.125.195.101|:443... connected.\n",
            "HTTP request sent, awaiting response... 302 Moved Temporarily\n",
            "Location: https://doc-0k-1g-docs.googleusercontent.com/docs/securesc/ha0ro937gcuc7l7deffksulhg5h7mbp1/n04d9enfnuq8a5ioe07fu95vn4i88vkv/1620198375000/16386755940020632228/*/1VCy7LvdVu4K5Zd7WGgyBDqMRToeQJVfL?e=download [following]\n",
            "Warning: wildcards not supported in HTTP.\n",
            "--2021-05-05 07:06:56--  https://doc-0k-1g-docs.googleusercontent.com/docs/securesc/ha0ro937gcuc7l7deffksulhg5h7mbp1/n04d9enfnuq8a5ioe07fu95vn4i88vkv/1620198375000/16386755940020632228/*/1VCy7LvdVu4K5Zd7WGgyBDqMRToeQJVfL?e=download\n",
            "Resolving doc-0k-1g-docs.googleusercontent.com (doc-0k-1g-docs.googleusercontent.com)... 74.125.20.132, 2607:f8b0:400e:c07::84\n",
            "Connecting to doc-0k-1g-docs.googleusercontent.com (doc-0k-1g-docs.googleusercontent.com)|74.125.20.132|:443... connected.\n",
            "HTTP request sent, awaiting response... 200 OK\n",
            "Length: 1587571 (1.5M) [text/csv]\n",
            "Saving to: ‘salju_test.csv’\n",
            "\n",
            "salju_test.csv      100%[===================>]   1.51M  --.-KB/s    in 0.01s   \n",
            "\n",
            "2021-05-05 07:06:56 (105 MB/s) - ‘salju_test.csv’ saved [1587571/1587571]\n",
            "\n"
          ],
          "name": "stdout"
        }
      ]
    },
    {
      "cell_type": "markdown",
      "metadata": {
        "id": "GXD2JqKhCrRI"
      },
      "source": [
        "# **LIBRARY**"
      ]
    },
    {
      "cell_type": "code",
      "metadata": {
        "id": "gS_dpDP9_SkJ"
      },
      "source": [
        "import pandas as pd\n",
        "import numpy as np\n",
        "from sklearn.preprocessing import StandardScaler\n",
        "from sklearn.preprocessing import MinMaxScaler\n",
        "from sklearn.model_selection import train_test_split\n",
        "from sklearn.tree import DecisionTreeClassifier\n",
        "import matplotlib.pyplot as plt\n",
        "from sklearn.preprocessing import LabelEncoder\n",
        "import seaborn as sns\n",
        "from sklearn.model_selection import GridSearchCV\n",
        "from sklearn import metrics\n",
        "from sklearn.feature_selection import mutual_info_classif\n",
        "import statistics\n",
        "import time"
      ],
      "execution_count": null,
      "outputs": []
    },
    {
      "cell_type": "markdown",
      "metadata": {
        "id": "CXaTTEr2CtIk"
      },
      "source": [
        "# **READ CSV**"
      ]
    },
    {
      "cell_type": "code",
      "metadata": {
        "id": "jI2BZw_Z_bXK"
      },
      "source": [
        "df_train = pd.read_csv('salju_train.csv')\n",
        "df_test = pd.read_csv('salju_test.csv')\n",
        "df_test.replace({\n",
        "    'BersaljuBesok': {'No': 'Tidak', 'Yes': 'Ya'}\n",
        "}, inplace=True)"
      ],
      "execution_count": null,
      "outputs": []
    },
    {
      "cell_type": "code",
      "metadata": {
        "colab": {
          "base_uri": "https://localhost:8080/",
          "height": 54
        },
        "id": "9qJbMRmxAeRq",
        "outputId": "5eb97ced-5f48-4eae-b1af-0bd0827fd420"
      },
      "source": [
        "display(df_train.shape)\n",
        "display(df_test.shape)"
      ],
      "execution_count": null,
      "outputs": [
        {
          "output_type": "display_data",
          "data": {
            "text/plain": [
              "(109095, 24)"
            ]
          },
          "metadata": {
            "tags": []
          }
        },
        {
          "output_type": "display_data",
          "data": {
            "text/plain": [
              "(18182, 23)"
            ]
          },
          "metadata": {
            "tags": []
          }
        }
      ]
    },
    {
      "cell_type": "code",
      "metadata": {
        "colab": {
          "base_uri": "https://localhost:8080/",
          "height": 218
        },
        "id": "glupF3Fa-xEp",
        "outputId": "1e745f0f-c1d5-4d2c-e97d-b760156e8639"
      },
      "source": [
        "df_train.head()"
      ],
      "execution_count": null,
      "outputs": [
        {
          "output_type": "execute_result",
          "data": {
            "text/html": [
              "<div>\n",
              "<style scoped>\n",
              "    .dataframe tbody tr th:only-of-type {\n",
              "        vertical-align: middle;\n",
              "    }\n",
              "\n",
              "    .dataframe tbody tr th {\n",
              "        vertical-align: top;\n",
              "    }\n",
              "\n",
              "    .dataframe thead th {\n",
              "        text-align: right;\n",
              "    }\n",
              "</style>\n",
              "<table border=\"1\" class=\"dataframe\">\n",
              "  <thead>\n",
              "    <tr style=\"text-align: right;\">\n",
              "      <th></th>\n",
              "      <th>id</th>\n",
              "      <th>Tanggal</th>\n",
              "      <th>KodeLokasi</th>\n",
              "      <th>SuhuMin</th>\n",
              "      <th>SuhuMax</th>\n",
              "      <th>Hujan</th>\n",
              "      <th>Penguapan</th>\n",
              "      <th>SinarMatahari</th>\n",
              "      <th>ArahAnginTerkencang</th>\n",
              "      <th>KecepatanAnginTerkencang</th>\n",
              "      <th>ArahAngin9am</th>\n",
              "      <th>ArahAngin3pm</th>\n",
              "      <th>KecepatanAngin9am</th>\n",
              "      <th>KecepatanAngin3pm</th>\n",
              "      <th>Kelembaban9am</th>\n",
              "      <th>Kelembaban3pm</th>\n",
              "      <th>Tekanan9am</th>\n",
              "      <th>Tekanan3pm</th>\n",
              "      <th>Awan9am</th>\n",
              "      <th>Awan3pm</th>\n",
              "      <th>Suhu9am</th>\n",
              "      <th>Suhu3pm</th>\n",
              "      <th>BersaljuHariIni</th>\n",
              "      <th>BersaljuBesok</th>\n",
              "    </tr>\n",
              "  </thead>\n",
              "  <tbody>\n",
              "    <tr>\n",
              "      <th>0</th>\n",
              "      <td>1</td>\n",
              "      <td>01/06/2014</td>\n",
              "      <td>C4</td>\n",
              "      <td>10.4</td>\n",
              "      <td>15.5</td>\n",
              "      <td>4.8</td>\n",
              "      <td>NaN</td>\n",
              "      <td>NaN</td>\n",
              "      <td>WSW</td>\n",
              "      <td>24.0</td>\n",
              "      <td>NaN</td>\n",
              "      <td>WSW</td>\n",
              "      <td>0.0</td>\n",
              "      <td>13.0</td>\n",
              "      <td>78.0</td>\n",
              "      <td>76.0</td>\n",
              "      <td>1020.1</td>\n",
              "      <td>1018.5</td>\n",
              "      <td>NaN</td>\n",
              "      <td>NaN</td>\n",
              "      <td>13.1</td>\n",
              "      <td>15.0</td>\n",
              "      <td>Ya</td>\n",
              "      <td>Tidak</td>\n",
              "    </tr>\n",
              "    <tr>\n",
              "      <th>1</th>\n",
              "      <td>2</td>\n",
              "      <td>15/07/2014</td>\n",
              "      <td>C10</td>\n",
              "      <td>9.0</td>\n",
              "      <td>17.0</td>\n",
              "      <td>8.0</td>\n",
              "      <td>2.6</td>\n",
              "      <td>7.4</td>\n",
              "      <td>NaN</td>\n",
              "      <td>NaN</td>\n",
              "      <td>SW</td>\n",
              "      <td>WNW</td>\n",
              "      <td>13.0</td>\n",
              "      <td>20.0</td>\n",
              "      <td>80.0</td>\n",
              "      <td>61.0</td>\n",
              "      <td>1015.2</td>\n",
              "      <td>1014.6</td>\n",
              "      <td>7.0</td>\n",
              "      <td>5.0</td>\n",
              "      <td>11.9</td>\n",
              "      <td>15.5</td>\n",
              "      <td>Ya</td>\n",
              "      <td>Ya</td>\n",
              "    </tr>\n",
              "    <tr>\n",
              "      <th>2</th>\n",
              "      <td>3</td>\n",
              "      <td>16/02/2011</td>\n",
              "      <td>C46</td>\n",
              "      <td>18.2</td>\n",
              "      <td>32.0</td>\n",
              "      <td>0.0</td>\n",
              "      <td>NaN</td>\n",
              "      <td>NaN</td>\n",
              "      <td>ESE</td>\n",
              "      <td>44.0</td>\n",
              "      <td>SE</td>\n",
              "      <td>SE</td>\n",
              "      <td>15.0</td>\n",
              "      <td>26.0</td>\n",
              "      <td>62.0</td>\n",
              "      <td>42.0</td>\n",
              "      <td>NaN</td>\n",
              "      <td>NaN</td>\n",
              "      <td>NaN</td>\n",
              "      <td>NaN</td>\n",
              "      <td>23.8</td>\n",
              "      <td>29.6</td>\n",
              "      <td>Tidak</td>\n",
              "      <td>Tidak</td>\n",
              "    </tr>\n",
              "    <tr>\n",
              "      <th>3</th>\n",
              "      <td>4</td>\n",
              "      <td>08/08/2012</td>\n",
              "      <td>C36</td>\n",
              "      <td>7.3</td>\n",
              "      <td>24.5</td>\n",
              "      <td>0.0</td>\n",
              "      <td>8.4</td>\n",
              "      <td>10.4</td>\n",
              "      <td>SSW</td>\n",
              "      <td>54.0</td>\n",
              "      <td>N</td>\n",
              "      <td>SW</td>\n",
              "      <td>13.0</td>\n",
              "      <td>19.0</td>\n",
              "      <td>25.0</td>\n",
              "      <td>17.0</td>\n",
              "      <td>1019.2</td>\n",
              "      <td>1016.9</td>\n",
              "      <td>1.0</td>\n",
              "      <td>7.0</td>\n",
              "      <td>15.3</td>\n",
              "      <td>23.2</td>\n",
              "      <td>Tidak</td>\n",
              "      <td>Tidak</td>\n",
              "    </tr>\n",
              "    <tr>\n",
              "      <th>4</th>\n",
              "      <td>5</td>\n",
              "      <td>29/10/2016</td>\n",
              "      <td>C7</td>\n",
              "      <td>5.9</td>\n",
              "      <td>20.3</td>\n",
              "      <td>0.0</td>\n",
              "      <td>3.6</td>\n",
              "      <td>12.6</td>\n",
              "      <td>N</td>\n",
              "      <td>37.0</td>\n",
              "      <td>NNW</td>\n",
              "      <td>ESE</td>\n",
              "      <td>22.0</td>\n",
              "      <td>19.0</td>\n",
              "      <td>55.0</td>\n",
              "      <td>48.0</td>\n",
              "      <td>1019.7</td>\n",
              "      <td>1014.7</td>\n",
              "      <td>2.0</td>\n",
              "      <td>6.0</td>\n",
              "      <td>12.4</td>\n",
              "      <td>18.1</td>\n",
              "      <td>Tidak</td>\n",
              "      <td>Tidak</td>\n",
              "    </tr>\n",
              "  </tbody>\n",
              "</table>\n",
              "</div>"
            ],
            "text/plain": [
              "   id     Tanggal KodeLokasi  ...  Suhu3pm  BersaljuHariIni  BersaljuBesok\n",
              "0   1  01/06/2014         C4  ...     15.0               Ya          Tidak\n",
              "1   2  15/07/2014        C10  ...     15.5               Ya             Ya\n",
              "2   3  16/02/2011        C46  ...     29.6            Tidak          Tidak\n",
              "3   4  08/08/2012        C36  ...     23.2            Tidak          Tidak\n",
              "4   5  29/10/2016         C7  ...     18.1            Tidak          Tidak\n",
              "\n",
              "[5 rows x 24 columns]"
            ]
          },
          "metadata": {
            "tags": []
          },
          "execution_count": 5
        }
      ]
    },
    {
      "cell_type": "markdown",
      "metadata": {
        "id": "gKsSzitGoma7"
      },
      "source": [
        "Melakukan drop untuk kolom yang tidak penting pada Data Train yaitu 'id' dan 'tanggal', sementara untuk Data Test adalah 'tanggal'"
      ]
    },
    {
      "cell_type": "code",
      "metadata": {
        "colab": {
          "base_uri": "https://localhost:8080/"
        },
        "id": "uMplbUnm7gxj",
        "outputId": "59713e1f-1906-47be-c66e-7c295e712e25"
      },
      "source": [
        "# Drop unimportant columns\n",
        "df_train_X = df_train.drop(['id', 'Tanggal'], axis=1)\n",
        "df_test_X = df_test.drop('Tanggal', axis=1)\n",
        "\n",
        "# Get columns where dtype is object\n",
        "columns_obj = df_train_X.select_dtypes(include=['object']).columns\n",
        "columns_obj"
      ],
      "execution_count": null,
      "outputs": [
        {
          "output_type": "execute_result",
          "data": {
            "text/plain": [
              "Index(['KodeLokasi', 'ArahAnginTerkencang', 'ArahAngin9am', 'ArahAngin3pm',\n",
              "       'BersaljuHariIni', 'BersaljuBesok'],\n",
              "      dtype='object')"
            ]
          },
          "metadata": {
            "tags": []
          },
          "execution_count": 6
        }
      ]
    },
    {
      "cell_type": "markdown",
      "metadata": {
        "id": "HVK1E5hgCxgG"
      },
      "source": [
        "# **DATA EXPLORATION**"
      ]
    },
    {
      "cell_type": "code",
      "metadata": {
        "colab": {
          "base_uri": "https://localhost:8080/",
          "height": 218
        },
        "id": "J4f__Le6Lc4G",
        "outputId": "91ffd9a4-8879-493f-9766-f5efb11b01e2"
      },
      "source": [
        "label_encode = LabelEncoder()\n",
        "\n",
        "# Encode not NaN values for specific columns\n",
        "for i in columns_obj:\n",
        "  # Train\n",
        "  df_train_X = df_train_X[pd.notnull(df_train_X[i])]\n",
        "  df_train_X[i] = label_encode.fit_transform(df_train_X[i])\n",
        "  # Test\n",
        "  df_test_X = df_test_X[pd.notnull(df_test_X[i])]\n",
        "  df_test_X[i] = label_encode.fit_transform(df_test_X[i])\n",
        "\n",
        "# # Train\n",
        "# df_train_X = df_train_X[pd.notnull(df_train_X['KodeLokasi'])]\n",
        "# df_train_X = df_train_X[pd.notnull(df_train_X['ArahAnginTerkencang'])]\n",
        "# df_train_X = df_train_X[pd.notnull(df_train_X['ArahAngin3pm'])]\n",
        "# df_train_X = df_train_X[pd.notnull(df_train_X['ArahAngin9am'])]\n",
        "# df_train_X = df_train_X[pd.notnull(df_train_X['BersaljuHariIni'])]\n",
        "# df_train_X = df_train_X[pd.notnull(df_train_X['BersaljuBesok'])]\n",
        "# # Test\n",
        "# df_test_X = df_test_X[pd.notnull(df_test_X['KodeLokasi'])]\n",
        "# df_test_X = df_test_X[pd.notnull(df_test_X['ArahAnginTerkencang'])]\n",
        "# df_test_X = df_test_X[pd.notnull(df_test_X['ArahAngin3pm'])]\n",
        "# df_test_X = df_test_X[pd.notnull(df_test_X['ArahAngin9am'])]\n",
        "# df_test_X = df_test_X[pd.notnull(df_test_X['BersaljuHariIni'])]\n",
        "# df_test_X = df_test_X[pd.notnull(df_test_X['BersaljuBesok'])]\n",
        "\n",
        "# # Train\n",
        "# df_train_X['KodeLokasi'] = label_encode.fit_transform(df_train_X['KodeLokasi'])\n",
        "# df_train_X['ArahAnginTerkencang'] = label_encode.fit_transform(df_train_X['ArahAnginTerkencang'])\n",
        "# df_train_X['ArahAngin9am'] = label_encode.fit_transform(df_train_X['ArahAngin9am'])\n",
        "# df_train_X['ArahAngin3pm'] = label_encode.fit_transform(df_train_X['ArahAngin3pm'])\n",
        "# df_train_X['BersaljuHariIni'] = label_encode.fit_transform(df_train_X['BersaljuHariIni'])\n",
        "# df_train_X['BersaljuBesok'] = label_encode.fit_transform(df_train_X['BersaljuBesok'])\n",
        "# # Test\n",
        "# df_test_X['KodeLokasi'] = label_encode.fit_transform(df_test_X['KodeLokasi'])\n",
        "# df_test_X['ArahAnginTerkencang'] = label_encode.fit_transform(df_test_X['ArahAnginTerkencang'])\n",
        "# df_test_X['ArahAngin9am'] = label_encode.fit_transform(df_test_X['ArahAngin9am'])\n",
        "# df_test_X['ArahAngin3pm'] = label_encode.fit_transform(df_test_X['ArahAngin3pm'])\n",
        "# df_test_X['BersaljuHariIni'] = label_encode.fit_transform(df_test_X['BersaljuHariIni'])\n",
        "# df_test_X['BersaljuBesok'] = label_encode.fit_transform(df_test_X['BersaljuBesok'])\n",
        "\n",
        "# Display first 5 rows\n",
        "display(df_train_X.head())"
      ],
      "execution_count": null,
      "outputs": [
        {
          "output_type": "display_data",
          "data": {
            "text/html": [
              "<div>\n",
              "<style scoped>\n",
              "    .dataframe tbody tr th:only-of-type {\n",
              "        vertical-align: middle;\n",
              "    }\n",
              "\n",
              "    .dataframe tbody tr th {\n",
              "        vertical-align: top;\n",
              "    }\n",
              "\n",
              "    .dataframe thead th {\n",
              "        text-align: right;\n",
              "    }\n",
              "</style>\n",
              "<table border=\"1\" class=\"dataframe\">\n",
              "  <thead>\n",
              "    <tr style=\"text-align: right;\">\n",
              "      <th></th>\n",
              "      <th>KodeLokasi</th>\n",
              "      <th>SuhuMin</th>\n",
              "      <th>SuhuMax</th>\n",
              "      <th>Hujan</th>\n",
              "      <th>Penguapan</th>\n",
              "      <th>SinarMatahari</th>\n",
              "      <th>ArahAnginTerkencang</th>\n",
              "      <th>KecepatanAnginTerkencang</th>\n",
              "      <th>ArahAngin9am</th>\n",
              "      <th>ArahAngin3pm</th>\n",
              "      <th>KecepatanAngin9am</th>\n",
              "      <th>KecepatanAngin3pm</th>\n",
              "      <th>Kelembaban9am</th>\n",
              "      <th>Kelembaban3pm</th>\n",
              "      <th>Tekanan9am</th>\n",
              "      <th>Tekanan3pm</th>\n",
              "      <th>Awan9am</th>\n",
              "      <th>Awan3pm</th>\n",
              "      <th>Suhu9am</th>\n",
              "      <th>Suhu3pm</th>\n",
              "      <th>BersaljuHariIni</th>\n",
              "      <th>BersaljuBesok</th>\n",
              "    </tr>\n",
              "  </thead>\n",
              "  <tbody>\n",
              "    <tr>\n",
              "      <th>2</th>\n",
              "      <td>40</td>\n",
              "      <td>18.2</td>\n",
              "      <td>32.0</td>\n",
              "      <td>0.0</td>\n",
              "      <td>NaN</td>\n",
              "      <td>NaN</td>\n",
              "      <td>2</td>\n",
              "      <td>44.0</td>\n",
              "      <td>9</td>\n",
              "      <td>9</td>\n",
              "      <td>15.0</td>\n",
              "      <td>26.0</td>\n",
              "      <td>62.0</td>\n",
              "      <td>42.0</td>\n",
              "      <td>NaN</td>\n",
              "      <td>NaN</td>\n",
              "      <td>NaN</td>\n",
              "      <td>NaN</td>\n",
              "      <td>23.8</td>\n",
              "      <td>29.6</td>\n",
              "      <td>0</td>\n",
              "      <td>0</td>\n",
              "    </tr>\n",
              "    <tr>\n",
              "      <th>3</th>\n",
              "      <td>29</td>\n",
              "      <td>7.3</td>\n",
              "      <td>24.5</td>\n",
              "      <td>0.0</td>\n",
              "      <td>8.4</td>\n",
              "      <td>10.4</td>\n",
              "      <td>11</td>\n",
              "      <td>54.0</td>\n",
              "      <td>3</td>\n",
              "      <td>12</td>\n",
              "      <td>13.0</td>\n",
              "      <td>19.0</td>\n",
              "      <td>25.0</td>\n",
              "      <td>17.0</td>\n",
              "      <td>1019.2</td>\n",
              "      <td>1016.9</td>\n",
              "      <td>1.0</td>\n",
              "      <td>7.0</td>\n",
              "      <td>15.3</td>\n",
              "      <td>23.2</td>\n",
              "      <td>0</td>\n",
              "      <td>0</td>\n",
              "    </tr>\n",
              "    <tr>\n",
              "      <th>4</th>\n",
              "      <td>46</td>\n",
              "      <td>5.9</td>\n",
              "      <td>20.3</td>\n",
              "      <td>0.0</td>\n",
              "      <td>3.6</td>\n",
              "      <td>12.6</td>\n",
              "      <td>3</td>\n",
              "      <td>37.0</td>\n",
              "      <td>6</td>\n",
              "      <td>2</td>\n",
              "      <td>22.0</td>\n",
              "      <td>19.0</td>\n",
              "      <td>55.0</td>\n",
              "      <td>48.0</td>\n",
              "      <td>1019.7</td>\n",
              "      <td>1014.7</td>\n",
              "      <td>2.0</td>\n",
              "      <td>6.0</td>\n",
              "      <td>12.4</td>\n",
              "      <td>18.1</td>\n",
              "      <td>0</td>\n",
              "      <td>0</td>\n",
              "    </tr>\n",
              "    <tr>\n",
              "      <th>5</th>\n",
              "      <td>3</td>\n",
              "      <td>14.4</td>\n",
              "      <td>21.8</td>\n",
              "      <td>0.0</td>\n",
              "      <td>3.2</td>\n",
              "      <td>4.4</td>\n",
              "      <td>12</td>\n",
              "      <td>39.0</td>\n",
              "      <td>12</td>\n",
              "      <td>11</td>\n",
              "      <td>19.0</td>\n",
              "      <td>20.0</td>\n",
              "      <td>63.0</td>\n",
              "      <td>52.0</td>\n",
              "      <td>1016.1</td>\n",
              "      <td>1012.5</td>\n",
              "      <td>7.0</td>\n",
              "      <td>7.0</td>\n",
              "      <td>16.7</td>\n",
              "      <td>21.1</td>\n",
              "      <td>0</td>\n",
              "      <td>0</td>\n",
              "    </tr>\n",
              "    <tr>\n",
              "      <th>6</th>\n",
              "      <td>29</td>\n",
              "      <td>7.7</td>\n",
              "      <td>18.7</td>\n",
              "      <td>0.2</td>\n",
              "      <td>5.6</td>\n",
              "      <td>9.7</td>\n",
              "      <td>14</td>\n",
              "      <td>46.0</td>\n",
              "      <td>7</td>\n",
              "      <td>14</td>\n",
              "      <td>19.0</td>\n",
              "      <td>28.0</td>\n",
              "      <td>69.0</td>\n",
              "      <td>31.0</td>\n",
              "      <td>1011.3</td>\n",
              "      <td>1008.8</td>\n",
              "      <td>1.0</td>\n",
              "      <td>1.0</td>\n",
              "      <td>11.3</td>\n",
              "      <td>18.3</td>\n",
              "      <td>0</td>\n",
              "      <td>0</td>\n",
              "    </tr>\n",
              "  </tbody>\n",
              "</table>\n",
              "</div>"
            ],
            "text/plain": [
              "   KodeLokasi  SuhuMin  SuhuMax  ...  Suhu3pm  BersaljuHariIni  BersaljuBesok\n",
              "2          40     18.2     32.0  ...     29.6                0              0\n",
              "3          29      7.3     24.5  ...     23.2                0              0\n",
              "4          46      5.9     20.3  ...     18.1                0              0\n",
              "5           3     14.4     21.8  ...     21.1                0              0\n",
              "6          29      7.7     18.7  ...     18.3                0              0\n",
              "\n",
              "[5 rows x 22 columns]"
            ]
          },
          "metadata": {
            "tags": []
          }
        }
      ]
    },
    {
      "cell_type": "code",
      "metadata": {
        "colab": {
          "base_uri": "https://localhost:8080/",
          "height": 54
        },
        "id": "JwpQJrGD4VpI",
        "outputId": "a99e6ba1-7165-44eb-8b40-1c06fe5ab3ef"
      },
      "source": [
        "display(df_train_X.shape)\n",
        "display(df_test_X.shape)"
      ],
      "execution_count": null,
      "outputs": [
        {
          "output_type": "display_data",
          "data": {
            "text/plain": [
              "(92816, 22)"
            ]
          },
          "metadata": {
            "tags": []
          }
        },
        {
          "output_type": "display_data",
          "data": {
            "text/plain": [
              "(15479, 22)"
            ]
          },
          "metadata": {
            "tags": []
          }
        }
      ]
    },
    {
      "cell_type": "markdown",
      "metadata": {
        "id": "n7lfyu_JEUbX"
      },
      "source": [
        "# **PRE-PROCESSING**"
      ]
    },
    {
      "cell_type": "markdown",
      "metadata": {
        "id": "qYJfe5_dNHpg"
      },
      "source": [
        "## **SPLIT DATA**"
      ]
    },
    {
      "cell_type": "code",
      "metadata": {
        "id": "q4-Cwpp3QPm5",
        "colab": {
          "base_uri": "https://localhost:8080/",
          "height": 54
        },
        "outputId": "d27f31a5-8937-4c04-f170-38b79fd704d5"
      },
      "source": [
        "# Train\n",
        "X_train = df_train_X.drop('BersaljuBesok', axis=1)\n",
        "y_train = df_train_X['BersaljuBesok'].values\n",
        "\n",
        "# Test\n",
        "X_test = df_test_X.drop('BersaljuBesok', axis=1)\n",
        "y_test = df_test_X['BersaljuBesok'].values\n",
        "\n",
        "# Display\n",
        "display(X_train.shape)\n",
        "display(X_test.shape)"
      ],
      "execution_count": null,
      "outputs": [
        {
          "output_type": "display_data",
          "data": {
            "text/plain": [
              "(92816, 21)"
            ]
          },
          "metadata": {
            "tags": []
          }
        },
        {
          "output_type": "display_data",
          "data": {
            "text/plain": [
              "(15479, 21)"
            ]
          },
          "metadata": {
            "tags": []
          }
        }
      ]
    },
    {
      "cell_type": "markdown",
      "metadata": {
        "id": "jruTFUXnNDTQ"
      },
      "source": [
        "## **FILL MISSING VALUES**"
      ]
    },
    {
      "cell_type": "code",
      "metadata": {
        "colab": {
          "base_uri": "https://localhost:8080/",
          "height": 817
        },
        "id": "QIskyfmxBagK",
        "outputId": "604671e4-8369-40ab-96e5-a6a2e882472e"
      },
      "source": [
        "# Train\n",
        "X_train = X_train.replace(np.nan, X_train.mean())\n",
        "display(X_train.isna().sum())\n",
        "\n",
        "# Test\n",
        "X_test = X_test.replace(np.nan, X_test.mean())\n",
        "display(X_test.isna().sum())"
      ],
      "execution_count": null,
      "outputs": [
        {
          "output_type": "display_data",
          "data": {
            "text/plain": [
              "KodeLokasi                  0\n",
              "SuhuMin                     0\n",
              "SuhuMax                     0\n",
              "Hujan                       0\n",
              "Penguapan                   0\n",
              "SinarMatahari               0\n",
              "ArahAnginTerkencang         0\n",
              "KecepatanAnginTerkencang    0\n",
              "ArahAngin9am                0\n",
              "ArahAngin3pm                0\n",
              "KecepatanAngin9am           0\n",
              "KecepatanAngin3pm           0\n",
              "Kelembaban9am               0\n",
              "Kelembaban3pm               0\n",
              "Tekanan9am                  0\n",
              "Tekanan3pm                  0\n",
              "Awan9am                     0\n",
              "Awan3pm                     0\n",
              "Suhu9am                     0\n",
              "Suhu3pm                     0\n",
              "BersaljuHariIni             0\n",
              "dtype: int64"
            ]
          },
          "metadata": {
            "tags": []
          }
        },
        {
          "output_type": "display_data",
          "data": {
            "text/plain": [
              "KodeLokasi                  0\n",
              "SuhuMin                     0\n",
              "SuhuMax                     0\n",
              "Hujan                       0\n",
              "Penguapan                   0\n",
              "SinarMatahari               0\n",
              "ArahAnginTerkencang         0\n",
              "KecepatanAnginTerkencang    0\n",
              "ArahAngin9am                0\n",
              "ArahAngin3pm                0\n",
              "KecepatanAngin9am           0\n",
              "KecepatanAngin3pm           0\n",
              "Kelembaban9am               0\n",
              "Kelembaban3pm               0\n",
              "Tekanan9am                  0\n",
              "Tekanan3pm                  0\n",
              "Awan9am                     0\n",
              "Awan3pm                     0\n",
              "Suhu9am                     0\n",
              "Suhu3pm                     0\n",
              "BersaljuHariIni             0\n",
              "dtype: int64"
            ]
          },
          "metadata": {
            "tags": []
          }
        }
      ]
    },
    {
      "cell_type": "markdown",
      "metadata": {
        "id": "zBi1FFa3M9yP"
      },
      "source": [
        "## **FEATURE SELECTION WITH MUTUAL INFORMATION**"
      ]
    },
    {
      "cell_type": "code",
      "metadata": {
        "id": "_sEUiC-CLHzk",
        "colab": {
          "base_uri": "https://localhost:8080/"
        },
        "outputId": "6d013b18-5619-4b7b-c9a0-f3faca9ec6cf"
      },
      "source": [
        "# Finding mutual info between data variable and data target\n",
        "mi = mutual_info_classif(X_train, y_train.ravel(), discrete_features=False, random_state=42)\n",
        "mi"
      ],
      "execution_count": null,
      "outputs": [
        {
          "output_type": "execute_result",
          "data": {
            "text/plain": [
              "array([0.01616424, 0.00617219, 0.01849606, 0.05585886, 0.00795141,\n",
              "       0.06216086, 0.00747589, 0.02973313, 0.00856906, 0.00607624,\n",
              "       0.00561267, 0.00710126, 0.04460755, 0.1187963 , 0.02860942,\n",
              "       0.02453442, 0.04223241, 0.05778978, 0.00379271, 0.02419239,\n",
              "       0.04662815])"
            ]
          },
          "metadata": {
            "tags": []
          },
          "execution_count": 11
        }
      ]
    },
    {
      "cell_type": "code",
      "metadata": {
        "id": "PT7kFG8ULaSW"
      },
      "source": [
        "# Choose columns where MI values is greater than mean all MI\n",
        "X_train = X_train[X_train.columns[mi > statistics.mean(mi)]]\n",
        "X_test = X_test[X_test.columns[mi > statistics.mean(mi)]]"
      ],
      "execution_count": null,
      "outputs": []
    },
    {
      "cell_type": "markdown",
      "metadata": {
        "id": "YYkHtAA3MDgL"
      },
      "source": [
        "## **HANDLE OUTLIERS**"
      ]
    },
    {
      "cell_type": "code",
      "metadata": {
        "colab": {
          "base_uri": "https://localhost:8080/",
          "height": 967
        },
        "id": "yyi2P07rbjsF",
        "outputId": "70baa6f0-98f2-4748-a192-8a6bbb3e0315"
      },
      "source": [
        "plt.figure(figsize=(12,8))\n",
        "sns.boxplot(data=X_train)\n",
        "\n",
        "plt.figure(figsize=(12,8))\n",
        "sns.boxplot(data=X_test)"
      ],
      "execution_count": null,
      "outputs": [
        {
          "output_type": "execute_result",
          "data": {
            "text/plain": [
              "<matplotlib.axes._subplots.AxesSubplot at 0x7f8b7aea6c10>"
            ]
          },
          "metadata": {
            "tags": []
          },
          "execution_count": 13
        },
        {
          "output_type": "display_data",
          "data": {
            "image/png": "[encoded data removed]",
            "text/plain": [
              "<Figure size 864x576 with 1 Axes>"
            ]
          },
          "metadata": {
            "tags": [],
            "needs_background": "light"
          }
        },
        {
          "output_type": "display_data",
          "data": {
            "image/png": "[encoded data removed]",
            "text/plain": [
              "<Figure size 864x576 with 1 Axes>"
            ]
          },
          "metadata": {
            "tags": [],
            "needs_background": "light"
          }
        }
      ]
    },
    {
      "cell_type": "code",
      "metadata": {
        "id": "ErV2p9sdcFj6",
        "colab": {
          "base_uri": "https://localhost:8080/",
          "height": 967
        },
        "outputId": "b3d2952c-7557-4469-b384-0139ee51f83a"
      },
      "source": [
        "for i in range(len(X_train.columns)-1):\n",
        "  q1 = X_train.iloc[:, i].quantile(0.25)\n",
        "  q3 = X_train.iloc[:, i].quantile(0.75)\n",
        "  iqr = q3 - q1\n",
        "\n",
        "  lb = q1 - (iqr * 1.5)\n",
        "  ub = q3 + (iqr * 1.5)\n",
        "  def apply(x):\n",
        "    if x > ub:\n",
        "      return ub\n",
        "    elif x < lb:\n",
        "      return lb\n",
        "    else:\n",
        "      return x\n",
        "\n",
        "  X_train.iloc[:, i] = X_train.iloc[:, i].apply(apply)\n",
        "\n",
        "plt.figure(figsize=(12,8))\n",
        "sns.boxplot(data=X_train)\n",
        "\n",
        "plt.figure(figsize=(12,8))\n",
        "sns.boxplot(data=X_test)"
      ],
      "execution_count": null,
      "outputs": [
        {
          "output_type": "execute_result",
          "data": {
            "text/plain": [
              "<matplotlib.axes._subplots.AxesSubplot at 0x7f8b7a67c710>"
            ]
          },
          "metadata": {
            "tags": []
          },
          "execution_count": 14
        },
        {
          "output_type": "display_data",
          "data": {
            "image/png": "[encoded data removed]",
            "text/plain": [
              "<Figure size 864x576 with 1 Axes>"
            ]
          },
          "metadata": {
            "tags": [],
            "needs_background": "light"
          }
        },
        {
          "output_type": "display_data",
          "data": {
            "image/png": "[encoded data removed]",
            "text/plain": [
              "<Figure size 864x576 with 1 Axes>"
            ]
          },
          "metadata": {
            "tags": [],
            "needs_background": "light"
          }
        }
      ]
    },
    {
      "cell_type": "markdown",
      "metadata": {
        "id": "u8sxj4DYMNVn"
      },
      "source": [
        "## **SCALING**"
      ]
    },
    {
      "cell_type": "code",
      "metadata": {
        "colab": {
          "base_uri": "https://localhost:8080/",
          "height": 490
        },
        "id": "89AKtj7BM6da",
        "outputId": "d10dfa48-1881-4a02-d3f8-9dec0c78465c"
      },
      "source": [
        "X_train_scal = StandardScaler().fit_transform(X_train)\n",
        "# X_train_scal = MinMaxScaler().fit_transform(X_train)\n",
        "display(X_train_scal)\n",
        "\n",
        "X_test_scal = StandardScaler().fit_transform(X_test)\n",
        "# X_test_scal = MinMaxScaler().fit_transform(X_test)\n",
        "display(X_test_scal)"
      ],
      "execution_count": null,
      "outputs": [
        {
          "output_type": "display_data",
          "data": {
            "text/plain": [
              "array([[-6.14747663e-01, -2.18304892e-01,  2.76126951e-01, ...,\n",
              "         3.89458306e-16, -1.68108930e-02, -5.38622812e-01],\n",
              "       [-6.14747663e-01,  1.45815514e+00,  1.06005860e+00, ...,\n",
              "        -1.49462889e+00,  1.20020569e+00, -5.38622812e-01],\n",
              "       [-6.14747663e-01,  1.79341750e+00, -2.72625205e-01, ...,\n",
              "        -1.05613782e+00,  7.14124745e-01, -5.38622812e-01],\n",
              "       ...,\n",
              "       [ 1.40026716e+00, -2.18304892e-01, -5.86197866e-01, ...,\n",
              "         3.89458306e-16, -1.68108930e-02,  1.85658679e+00],\n",
              "       [-6.14747663e-01,  1.79341750e+00,  5.89699612e-01, ...,\n",
              "        -1.93311996e+00, -1.71628000e+00, -5.38622812e-01],\n",
              "       [ 1.90402087e+00, -2.18304892e-01, -4.29411535e-01, ...,\n",
              "         3.89458306e-16, -1.68108930e-02,  1.85658679e+00]])"
            ]
          },
          "metadata": {
            "tags": []
          }
        },
        {
          "output_type": "display_data",
          "data": {
            "text/plain": [
              "array([[-2.76708269e-01, -4.79602821e-01,  4.02058181e-01, ...,\n",
              "        -1.78022679e-01,  1.18600240e+00, -5.36841753e-01],\n",
              "       [-2.53392741e-01, -4.15355871e-15,  1.15356562e+00, ...,\n",
              "         1.57991702e+00, -1.63823359e+00, -5.36841753e-01],\n",
              "       [-2.76708269e-01,  9.59317599e-01, -5.74901495e-01, ...,\n",
              "        -1.93596238e+00, -1.63823359e+00, -5.36841753e-01],\n",
              "       ...,\n",
              "       [-2.76708269e-01,  1.39099373e+00, -2.74298517e-01, ...,\n",
              "        -1.49647746e+00, -1.63823359e+00, -5.36841753e-01],\n",
              "       [-2.76708269e-01,  1.10320964e+00, -4.24600006e-01, ...,\n",
              "         2.61462247e-01,  2.44590404e-01, -5.36841753e-01],\n",
              "       [ 6.79228352e-01, -4.15355871e-15, -7.25202983e-01, ...,\n",
              "         3.90341027e-16,  0.00000000e+00,  1.86274632e+00]])"
            ]
          },
          "metadata": {
            "tags": []
          }
        }
      ]
    },
    {
      "cell_type": "markdown",
      "metadata": {
        "id": "JfRLNrFiEW32"
      },
      "source": [
        "# **MODELLING**"
      ]
    },
    {
      "cell_type": "code",
      "metadata": {
        "id": "SZWBl16xsIul"
      },
      "source": [
        "clf = DecisionTreeClassifier()\n",
        "\n",
        "clf.fit(X_train_scal, y_train)\n",
        "\n",
        "y_pred = clf.predict(X_test_scal)"
      ],
      "execution_count": null,
      "outputs": []
    },
    {
      "cell_type": "markdown",
      "metadata": {
        "id": "uU5EZbGEEZIA"
      },
      "source": [
        "# **EVALUATION**"
      ]
    },
    {
      "cell_type": "code",
      "metadata": {
        "colab": {
          "base_uri": "https://localhost:8080/"
        },
        "id": "otOijy1pr7db",
        "outputId": "58126cde-c307-4df5-bf6e-4fcd4b22e3ce"
      },
      "source": [
        "print(f'{metrics.classification_report(y_test, y_pred)}')"
      ],
      "execution_count": null,
      "outputs": [
        {
          "output_type": "stream",
          "text": [
            "              precision    recall  f1-score   support\n",
            "\n",
            "           0       0.85      0.83      0.84     12065\n",
            "           1       0.44      0.48      0.46      3414\n",
            "\n",
            "    accuracy                           0.75     15479\n",
            "   macro avg       0.65      0.66      0.65     15479\n",
            "weighted avg       0.76      0.75      0.76     15479\n",
            "\n"
          ],
          "name": "stdout"
        }
      ]
    },
    {
      "cell_type": "markdown",
      "metadata": {
        "id": "a6rtq5EaEdwe"
      },
      "source": [
        "# **EXPERIMENT**"
      ]
    },
    {
      "cell_type": "markdown",
      "metadata": {
        "id": "ttVfRc85MkmX"
      },
      "source": [
        "## **HYPERPARAMETER TUNING**"
      ]
    },
    {
      "cell_type": "code",
      "metadata": {
        "id": "hxs3fuhkAoRs",
        "colab": {
          "base_uri": "https://localhost:8080/",
          "height": 467
        },
        "outputId": "e019e1f0-287d-4978-ddbb-669f2f178ba0"
      },
      "source": [
        "param_dict = {\n",
        "    'criterion': ['gini', 'entropy'],\n",
        "    'max_depth': range(1, 10),\n",
        "    'min_samples_split': range(1, 10),\n",
        "    'min_samples_leaf': range(1, 5)\n",
        "}\n",
        "\n",
        "grid = GridSearchCV(\n",
        "    clf,\n",
        "    param_grid=param_dict,\n",
        "    cv=10,\n",
        "    verbose=1,\n",
        "    n_jobs=-1\n",
        ")\n",
        "grid.fit(X_train_scal, y_train)"
      ],
      "execution_count": null,
      "outputs": [
        {
          "output_type": "stream",
          "text": [
            "Fitting 10 folds for each of 648 candidates, totalling 6480 fits\n"
          ],
          "name": "stdout"
        },
        {
          "output_type": "stream",
          "text": [
            "[Parallel(n_jobs=-1)]: Using backend LokyBackend with 2 concurrent workers.\n",
            "[Parallel(n_jobs=-1)]: Done  68 tasks      | elapsed:    3.7s\n",
            "[Parallel(n_jobs=-1)]: Done 444 tasks      | elapsed:   18.7s\n",
            "[Parallel(n_jobs=-1)]: Done 1444 tasks      | elapsed:  1.5min\n",
            "[Parallel(n_jobs=-1)]: Done 2324 tasks      | elapsed:  3.1min\n"
          ],
          "name": "stderr"
        },
        {
          "output_type": "error",
          "ename": "KeyboardInterrupt",
          "evalue": "ignored",
          "traceback": [
            "\u001b[0;31m---------------------------------------------------------------------------\u001b[0m",
            "\u001b[0;31mKeyboardInterrupt\u001b[0m                         Traceback (most recent call last)",
            "\u001b[0;32m<ipython-input-18-6df22558894e>\u001b[0m in \u001b[0;36m<module>\u001b[0;34m()\u001b[0m\n\u001b[1;32m     13\u001b[0m     \u001b[0mn_jobs\u001b[0m\u001b[0;34m=\u001b[0m\u001b[0;34m-\u001b[0m\u001b[0;36m1\u001b[0m\u001b[0;34m\u001b[0m\u001b[0;34m\u001b[0m\u001b[0m\n\u001b[1;32m     14\u001b[0m )\n\u001b[0;32m---> 15\u001b[0;31m \u001b[0mgrid\u001b[0m\u001b[0;34m.\u001b[0m\u001b[0mfit\u001b[0m\u001b[0;34m(\u001b[0m\u001b[0mX_train_scal\u001b[0m\u001b[0;34m,\u001b[0m \u001b[0my_train\u001b[0m\u001b[0;34m)\u001b[0m\u001b[0;34m\u001b[0m\u001b[0;34m\u001b[0m\u001b[0m\n\u001b[0m",
            "\u001b[0;32m/usr/local/lib/python3.7/dist-packages/sklearn/model_selection/_search.py\u001b[0m in \u001b[0;36mfit\u001b[0;34m(self, X, y, groups, **fit_params)\u001b[0m\n\u001b[1;32m    708\u001b[0m                 \u001b[0;32mreturn\u001b[0m \u001b[0mresults\u001b[0m\u001b[0;34m\u001b[0m\u001b[0;34m\u001b[0m\u001b[0m\n\u001b[1;32m    709\u001b[0m \u001b[0;34m\u001b[0m\u001b[0m\n\u001b[0;32m--> 710\u001b[0;31m             \u001b[0mself\u001b[0m\u001b[0;34m.\u001b[0m\u001b[0m_run_search\u001b[0m\u001b[0;34m(\u001b[0m\u001b[0mevaluate_candidates\u001b[0m\u001b[0;34m)\u001b[0m\u001b[0;34m\u001b[0m\u001b[0;34m\u001b[0m\u001b[0m\n\u001b[0m\u001b[1;32m    711\u001b[0m \u001b[0;34m\u001b[0m\u001b[0m\n\u001b[1;32m    712\u001b[0m         \u001b[0;31m# For multi-metric evaluation, store the best_index_, best_params_ and\u001b[0m\u001b[0;34m\u001b[0m\u001b[0;34m\u001b[0m\u001b[0;34m\u001b[0m\u001b[0m\n",
            "\u001b[0;32m/usr/local/lib/python3.7/dist-packages/sklearn/model_selection/_search.py\u001b[0m in \u001b[0;36m_run_search\u001b[0;34m(self, evaluate_candidates)\u001b[0m\n\u001b[1;32m   1149\u001b[0m     \u001b[0;32mdef\u001b[0m \u001b[0m_run_search\u001b[0m\u001b[0;34m(\u001b[0m\u001b[0mself\u001b[0m\u001b[0;34m,\u001b[0m \u001b[0mevaluate_candidates\u001b[0m\u001b[0;34m)\u001b[0m\u001b[0;34m:\u001b[0m\u001b[0;34m\u001b[0m\u001b[0;34m\u001b[0m\u001b[0m\n\u001b[1;32m   1150\u001b[0m         \u001b[0;34m\"\"\"Search all candidates in param_grid\"\"\"\u001b[0m\u001b[0;34m\u001b[0m\u001b[0;34m\u001b[0m\u001b[0m\n\u001b[0;32m-> 1151\u001b[0;31m         \u001b[0mevaluate_candidates\u001b[0m\u001b[0;34m(\u001b[0m\u001b[0mParameterGrid\u001b[0m\u001b[0;34m(\u001b[0m\u001b[0mself\u001b[0m\u001b[0;34m.\u001b[0m\u001b[0mparam_grid\u001b[0m\u001b[0;34m)\u001b[0m\u001b[0;34m)\u001b[0m\u001b[0;34m\u001b[0m\u001b[0;34m\u001b[0m\u001b[0m\n\u001b[0m\u001b[1;32m   1152\u001b[0m \u001b[0;34m\u001b[0m\u001b[0m\n\u001b[1;32m   1153\u001b[0m \u001b[0;34m\u001b[0m\u001b[0m\n",
            "\u001b[0;32m/usr/local/lib/python3.7/dist-packages/sklearn/model_selection/_search.py\u001b[0m in \u001b[0;36mevaluate_candidates\u001b[0;34m(candidate_params)\u001b[0m\n\u001b[1;32m    687\u001b[0m                                \u001b[0;32mfor\u001b[0m \u001b[0mparameters\u001b[0m\u001b[0;34m,\u001b[0m \u001b[0;34m(\u001b[0m\u001b[0mtrain\u001b[0m\u001b[0;34m,\u001b[0m \u001b[0mtest\u001b[0m\u001b[0;34m)\u001b[0m\u001b[0;34m\u001b[0m\u001b[0;34m\u001b[0m\u001b[0m\n\u001b[1;32m    688\u001b[0m                                in product(candidate_params,\n\u001b[0;32m--> 689\u001b[0;31m                                           cv.split(X, y, groups)))\n\u001b[0m\u001b[1;32m    690\u001b[0m \u001b[0;34m\u001b[0m\u001b[0m\n\u001b[1;32m    691\u001b[0m                 \u001b[0;32mif\u001b[0m \u001b[0mlen\u001b[0m\u001b[0;34m(\u001b[0m\u001b[0mout\u001b[0m\u001b[0;34m)\u001b[0m \u001b[0;34m<\u001b[0m \u001b[0;36m1\u001b[0m\u001b[0;34m:\u001b[0m\u001b[0;34m\u001b[0m\u001b[0;34m\u001b[0m\u001b[0m\n",
            "\u001b[0;32m/usr/local/lib/python3.7/dist-packages/joblib/parallel.py\u001b[0m in \u001b[0;36m__call__\u001b[0;34m(self, iterable)\u001b[0m\n\u001b[1;32m   1052\u001b[0m \u001b[0;34m\u001b[0m\u001b[0m\n\u001b[1;32m   1053\u001b[0m             \u001b[0;32mwith\u001b[0m \u001b[0mself\u001b[0m\u001b[0;34m.\u001b[0m\u001b[0m_backend\u001b[0m\u001b[0;34m.\u001b[0m\u001b[0mretrieval_context\u001b[0m\u001b[0;34m(\u001b[0m\u001b[0;34m)\u001b[0m\u001b[0;34m:\u001b[0m\u001b[0;34m\u001b[0m\u001b[0;34m\u001b[0m\u001b[0m\n\u001b[0;32m-> 1054\u001b[0;31m                 \u001b[0mself\u001b[0m\u001b[0;34m.\u001b[0m\u001b[0mretrieve\u001b[0m\u001b[0;34m(\u001b[0m\u001b[0;34m)\u001b[0m\u001b[0;34m\u001b[0m\u001b[0;34m\u001b[0m\u001b[0m\n\u001b[0m\u001b[1;32m   1055\u001b[0m             \u001b[0;31m# Make sure that we get a last message telling us we are done\u001b[0m\u001b[0;34m\u001b[0m\u001b[0;34m\u001b[0m\u001b[0;34m\u001b[0m\u001b[0m\n\u001b[1;32m   1056\u001b[0m             \u001b[0melapsed_time\u001b[0m \u001b[0;34m=\u001b[0m \u001b[0mtime\u001b[0m\u001b[0;34m.\u001b[0m\u001b[0mtime\u001b[0m\u001b[0;34m(\u001b[0m\u001b[0;34m)\u001b[0m \u001b[0;34m-\u001b[0m \u001b[0mself\u001b[0m\u001b[0;34m.\u001b[0m\u001b[0m_start_time\u001b[0m\u001b[0;34m\u001b[0m\u001b[0;34m\u001b[0m\u001b[0m\n",
            "\u001b[0;32m/usr/local/lib/python3.7/dist-packages/joblib/parallel.py\u001b[0m in \u001b[0;36mretrieve\u001b[0;34m(self)\u001b[0m\n\u001b[1;32m    931\u001b[0m             \u001b[0;32mtry\u001b[0m\u001b[0;34m:\u001b[0m\u001b[0;34m\u001b[0m\u001b[0;34m\u001b[0m\u001b[0m\n\u001b[1;32m    932\u001b[0m                 \u001b[0;32mif\u001b[0m \u001b[0mgetattr\u001b[0m\u001b[0;34m(\u001b[0m\u001b[0mself\u001b[0m\u001b[0;34m.\u001b[0m\u001b[0m_backend\u001b[0m\u001b[0;34m,\u001b[0m \u001b[0;34m'supports_timeout'\u001b[0m\u001b[0;34m,\u001b[0m \u001b[0;32mFalse\u001b[0m\u001b[0;34m)\u001b[0m\u001b[0;34m:\u001b[0m\u001b[0;34m\u001b[0m\u001b[0;34m\u001b[0m\u001b[0m\n\u001b[0;32m--> 933\u001b[0;31m                     \u001b[0mself\u001b[0m\u001b[0;34m.\u001b[0m\u001b[0m_output\u001b[0m\u001b[0;34m.\u001b[0m\u001b[0mextend\u001b[0m\u001b[0;34m(\u001b[0m\u001b[0mjob\u001b[0m\u001b[0;34m.\u001b[0m\u001b[0mget\u001b[0m\u001b[0;34m(\u001b[0m\u001b[0mtimeout\u001b[0m\u001b[0;34m=\u001b[0m\u001b[0mself\u001b[0m\u001b[0;34m.\u001b[0m\u001b[0mtimeout\u001b[0m\u001b[0;34m)\u001b[0m\u001b[0;34m)\u001b[0m\u001b[0;34m\u001b[0m\u001b[0;34m\u001b[0m\u001b[0m\n\u001b[0m\u001b[1;32m    934\u001b[0m                 \u001b[0;32melse\u001b[0m\u001b[0;34m:\u001b[0m\u001b[0;34m\u001b[0m\u001b[0;34m\u001b[0m\u001b[0m\n\u001b[1;32m    935\u001b[0m                     \u001b[0mself\u001b[0m\u001b[0;34m.\u001b[0m\u001b[0m_output\u001b[0m\u001b[0;34m.\u001b[0m\u001b[0mextend\u001b[0m\u001b[0;34m(\u001b[0m\u001b[0mjob\u001b[0m\u001b[0;34m.\u001b[0m\u001b[0mget\u001b[0m\u001b[0;34m(\u001b[0m\u001b[0;34m)\u001b[0m\u001b[0;34m)\u001b[0m\u001b[0;34m\u001b[0m\u001b[0;34m\u001b[0m\u001b[0m\n",
            "\u001b[0;32m/usr/local/lib/python3.7/dist-packages/joblib/_parallel_backends.py\u001b[0m in \u001b[0;36mwrap_future_result\u001b[0;34m(future, timeout)\u001b[0m\n\u001b[1;32m    540\u001b[0m         AsyncResults.get from multiprocessing.\"\"\"\n\u001b[1;32m    541\u001b[0m         \u001b[0;32mtry\u001b[0m\u001b[0;34m:\u001b[0m\u001b[0;34m\u001b[0m\u001b[0;34m\u001b[0m\u001b[0m\n\u001b[0;32m--> 542\u001b[0;31m             \u001b[0;32mreturn\u001b[0m \u001b[0mfuture\u001b[0m\u001b[0;34m.\u001b[0m\u001b[0mresult\u001b[0m\u001b[0;34m(\u001b[0m\u001b[0mtimeout\u001b[0m\u001b[0;34m=\u001b[0m\u001b[0mtimeout\u001b[0m\u001b[0;34m)\u001b[0m\u001b[0;34m\u001b[0m\u001b[0;34m\u001b[0m\u001b[0m\n\u001b[0m\u001b[1;32m    543\u001b[0m         \u001b[0;32mexcept\u001b[0m \u001b[0mCfTimeoutError\u001b[0m \u001b[0;32mas\u001b[0m \u001b[0me\u001b[0m\u001b[0;34m:\u001b[0m\u001b[0;34m\u001b[0m\u001b[0;34m\u001b[0m\u001b[0m\n\u001b[1;32m    544\u001b[0m             \u001b[0;32mraise\u001b[0m \u001b[0mTimeoutError\u001b[0m \u001b[0;32mfrom\u001b[0m \u001b[0me\u001b[0m\u001b[0;34m\u001b[0m\u001b[0;34m\u001b[0m\u001b[0m\n",
            "\u001b[0;32m/usr/lib/python3.7/concurrent/futures/_base.py\u001b[0m in \u001b[0;36mresult\u001b[0;34m(self, timeout)\u001b[0m\n\u001b[1;32m    428\u001b[0m                 \u001b[0;32mreturn\u001b[0m \u001b[0mself\u001b[0m\u001b[0;34m.\u001b[0m\u001b[0m__get_result\u001b[0m\u001b[0;34m(\u001b[0m\u001b[0;34m)\u001b[0m\u001b[0;34m\u001b[0m\u001b[0;34m\u001b[0m\u001b[0m\n\u001b[1;32m    429\u001b[0m \u001b[0;34m\u001b[0m\u001b[0m\n\u001b[0;32m--> 430\u001b[0;31m             \u001b[0mself\u001b[0m\u001b[0;34m.\u001b[0m\u001b[0m_condition\u001b[0m\u001b[0;34m.\u001b[0m\u001b[0mwait\u001b[0m\u001b[0;34m(\u001b[0m\u001b[0mtimeout\u001b[0m\u001b[0;34m)\u001b[0m\u001b[0;34m\u001b[0m\u001b[0;34m\u001b[0m\u001b[0m\n\u001b[0m\u001b[1;32m    431\u001b[0m \u001b[0;34m\u001b[0m\u001b[0m\n\u001b[1;32m    432\u001b[0m             \u001b[0;32mif\u001b[0m \u001b[0mself\u001b[0m\u001b[0;34m.\u001b[0m\u001b[0m_state\u001b[0m \u001b[0;32min\u001b[0m \u001b[0;34m[\u001b[0m\u001b[0mCANCELLED\u001b[0m\u001b[0;34m,\u001b[0m \u001b[0mCANCELLED_AND_NOTIFIED\u001b[0m\u001b[0;34m]\u001b[0m\u001b[0;34m:\u001b[0m\u001b[0;34m\u001b[0m\u001b[0;34m\u001b[0m\u001b[0m\n",
            "\u001b[0;32m/usr/lib/python3.7/threading.py\u001b[0m in \u001b[0;36mwait\u001b[0;34m(self, timeout)\u001b[0m\n\u001b[1;32m    294\u001b[0m         \u001b[0;32mtry\u001b[0m\u001b[0;34m:\u001b[0m    \u001b[0;31m# restore state no matter what (e.g., KeyboardInterrupt)\u001b[0m\u001b[0;34m\u001b[0m\u001b[0;34m\u001b[0m\u001b[0m\n\u001b[1;32m    295\u001b[0m             \u001b[0;32mif\u001b[0m \u001b[0mtimeout\u001b[0m \u001b[0;32mis\u001b[0m \u001b[0;32mNone\u001b[0m\u001b[0;34m:\u001b[0m\u001b[0;34m\u001b[0m\u001b[0;34m\u001b[0m\u001b[0m\n\u001b[0;32m--> 296\u001b[0;31m                 \u001b[0mwaiter\u001b[0m\u001b[0;34m.\u001b[0m\u001b[0macquire\u001b[0m\u001b[0;34m(\u001b[0m\u001b[0;34m)\u001b[0m\u001b[0;34m\u001b[0m\u001b[0;34m\u001b[0m\u001b[0m\n\u001b[0m\u001b[1;32m    297\u001b[0m                 \u001b[0mgotit\u001b[0m \u001b[0;34m=\u001b[0m \u001b[0;32mTrue\u001b[0m\u001b[0;34m\u001b[0m\u001b[0;34m\u001b[0m\u001b[0m\n\u001b[1;32m    298\u001b[0m             \u001b[0;32melse\u001b[0m\u001b[0;34m:\u001b[0m\u001b[0;34m\u001b[0m\u001b[0;34m\u001b[0m\u001b[0m\n",
            "\u001b[0;31mKeyboardInterrupt\u001b[0m: "
          ]
        }
      ]
    },
    {
      "cell_type": "code",
      "metadata": {
        "id": "WhbIVjVjF14F"
      },
      "source": [
        "grid.best_estimator_"
      ],
      "execution_count": null,
      "outputs": []
    },
    {
      "cell_type": "markdown",
      "metadata": {
        "id": "DIXz5l2DMoQJ"
      },
      "source": [
        "## **BUILD MODEL BASED ON BEST HYPERPARAMETER**"
      ]
    },
    {
      "cell_type": "code",
      "metadata": {
        "id": "0CWN7cieBS53"
      },
      "source": [
        "t0 = time.time()\n",
        "\n",
        "clf = grid.best_estimator_\n",
        "\n",
        "clf.fit(X_train_scal, y_train)\n",
        "\n",
        "y_pred = clf.predict(X_test_scal)\n",
        "\n",
        "print(f'{metrics.classification_report(y_test, y_pred)}')\n",
        "print(f'Time: {time.time()-t0}')"
      ],
      "execution_count": null,
      "outputs": []
    },
    {
      "cell_type": "markdown",
      "metadata": {
        "id": "jaOXDHWeMu7c"
      },
      "source": [
        "## **DECISION TREE VISUALIZATION**"
      ]
    },
    {
      "cell_type": "code",
      "metadata": {
        "id": "0KqBbfIGGh1u"
      },
      "source": [
        "from sklearn.externals.six import StringIO  \n",
        "from IPython.display import Image  \n",
        "from sklearn.tree import export_graphviz\n",
        "import pydotplus\n",
        "\n",
        "dot_data = StringIO()\n",
        "export_graphviz(\n",
        "    clf,\n",
        "    out_file=dot_data,\n",
        "    filled=True,\n",
        "    rounded=True,\n",
        "    special_characters=True,\n",
        "    feature_names = X_train.columns,\n",
        "    class_names=['0','1']\n",
        ")\n",
        "graph = pydotplus.graph_from_dot_data(dot_data.getvalue())  \n",
        "graph.write_png('tree.png')\n",
        "Image(graph.create_png())"
      ],
      "execution_count": null,
      "outputs": []
    }
  ]
}